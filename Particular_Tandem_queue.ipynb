{
  "cells": [
    {
      "cell_type": "markdown",
      "source": [
        "We have a tandem queue where customers leaving queue 1 can join queue 2 if it's not empty."
      ],
      "metadata": {
        "id": "ADEHkVZbkK-T"
      }
    },
    {
      "cell_type": "code",
      "execution_count": null,
      "metadata": {
        "colab": {
          "base_uri": "https://localhost:8080/"
        },
        "id": "f_W09E6TX-6R",
        "outputId": "e8b6b176-a672-4678-934d-9e4318e8fab7"
      },
      "outputs": [
        {
          "output_type": "stream",
          "name": "stdout",
          "text": [
            "Collecting simpy\n",
            "  Downloading simpy-4.0.2-py2.py3-none-any.whl (30 kB)\n",
            "Installing collected packages: simpy\n",
            "Successfully installed simpy-4.0.2\n"
          ]
        }
      ],
      "source": [
        "!pip install simpy"
      ]
    },
    {
      "cell_type": "code",
      "source": [
        "import simpy\n",
        "import random\n",
        "\n",
        "class MM1():\n",
        "    def __init__(self, env, lambda_1, mu_1, mu_2):\n",
        "        self.env = env\n",
        "        self.queue_1 = simpy.Store(env)\n",
        "        self.queue_2 = simpy.Store(env)\n",
        "        self.lambda_1 = lambda_1\n",
        "        self.mu_2 = mu_2\n",
        "        self.mu_1 = mu_1\n",
        "        self.data = {'arrival 1':[], 'arrival 2':[], 'departure 1':[], 'departure 2':[]}\n",
        "\n",
        "\n",
        "    def arrive1(self):  #generate arrivals\n",
        "        for _ in range(2*10**6):\n",
        "            yield self.env.timeout(random.expovariate(self.lambda_1))\n",
        "            self.queue_1.put('c1')\n",
        "            self.data['arrival 1'].append(self.env.now)\n",
        "\n",
        "\n",
        "\n",
        "    def service_1(self): #queue 1\n",
        "        while True:\n",
        "            yield self.queue_1.get()\n",
        "            yield self.env.timeout(random.expovariate(self.mu_1))\n",
        "            if len(self.queue_1.items) >= 0:\n",
        "                self.queue_2.put('x')\n",
        "                self.data['departure 1'].append(self.env.now)\n",
        "\n",
        "    def service_2(self):#queue 2\n",
        "        while True:\n",
        "            yield self.queue_2.get()\n",
        "            yield self.env.timeout(random.expovariate(self.mu_2))\n",
        "            self.data['departure 2'].append(self.env.now)"
      ],
      "metadata": {
        "id": "rh18vZZyv9nP"
      },
      "execution_count": null,
      "outputs": []
    },
    {
      "cell_type": "code",
      "source": [
        "env = simpy.Environment()\n",
        "lam, mu_1, mu_2 = 1, 2, 2\n",
        "net = MM1(env, lam, mu_1, mu_2)\n",
        "env.process(net.arrive1())\n",
        "\n",
        "env.process(net.service_1())\n",
        "env.process(net.service_2())\n",
        "\n",
        "env.run()\n",
        "\n",
        "l = 3*10**5\n",
        "w1 = (sum(net.data['departure 2'][l:-l]) - sum(net.data['departure 1'][l:-l])) / len(net.data['departure 2'][l:-l])\n",
        "\n",
        "print('waiting time is:',w1)\n"
      ],
      "metadata": {
        "colab": {
          "base_uri": "https://localhost:8080/"
        },
        "id": "v9LkbImZtoIH",
        "outputId": "2b9d891e-879e-474b-ce83-e55e8a281498"
      },
      "execution_count": null,
      "outputs": [
        {
          "output_type": "stream",
          "name": "stdout",
          "text": [
            "0.998599880719866\n"
          ]
        }
      ]
    }
  ],
  "metadata": {
    "colab": {
      "provenance": []
    },
    "kernelspec": {
      "display_name": "Python 3",
      "name": "python3"
    },
    "language_info": {
      "name": "python"
    }
  },
  "nbformat": 4,
  "nbformat_minor": 0
}